{
 "cells": [
  {
   "cell_type": "markdown",
   "id": "c46d27c0-a15f-4430-90ad-c244023409fd",
   "metadata": {},
   "source": [
    "## Functions Assignment "
   ]
  },
  {
   "cell_type": "markdown",
   "id": "dbbc1386-8e90-4032-bd77-6344a6b915c2",
   "metadata": {},
   "source": [
    "## Theory Quuestions"
   ]
  },
  {
   "cell_type": "markdown",
   "id": "12cbcff6-b10a-4a53-8bf5-2e949419ddff",
   "metadata": {},
   "source": [
    "1. What is the difference between a function and a method in Python? "
   ]
  },
  {
   "cell_type": "markdown",
   "id": "085727dd-1415-48e8-bc2e-7fccb24273fd",
   "metadata": {},
   "source": [
    "Ans. Difference between a Function and a Method in Python:\n",
    "- A function is a block of reusable code that is defined independently and can be called by its name. It is not associated with any object and can exist outside of a class.\n",
    "\n",
    "- A method is a function that is associated with an object and defined within a class. It operates on the data (attributes) of the object and is called using the object it belongs to."
   ]
  },
  {
   "cell_type": "markdown",
   "id": "82ffd6c0-9d04-46dd-a4e7-f8ba6787515f",
   "metadata": {},
   "source": [
    "2. Explain the concept of function arguments and parameters in Python."
   ]
  },
  {
   "cell_type": "markdown",
   "id": "8f3316e7-3172-4d64-861c-12fcf8aee81f",
   "metadata": {},
   "source": [
    "Ans. Function Arguments and Parameters in Python:\n",
    "In Python, parameters and arguments are related concepts used in functions.\n",
    "\n",
    "Parameters are the variables listed in the function definition. They act as placeholders for the values that will be passed to the function.\n",
    "\n",
    "Arguments are the actual values passed to the function when it is called."
   ]
  },
  {
   "cell_type": "markdown",
   "id": "e7e11e6f-c7c2-48c8-b6fb-ecbe2e33417c",
   "metadata": {},
   "source": [
    "3. What are the different ways to define and call a function in Python?"
   ]
  },
  {
   "cell_type": "markdown",
   "id": "7f366ac9-8b2a-427b-acbd-837ef0aec69a",
   "metadata": {},
   "source": [
    "Ans. Different Ways to Define and Call a Function in Python:\n",
    "* Defining a Function:\n",
    "In Python, functions can be defined in the following ways:\n",
    "\n",
    "1. Standard Function Definition:\n",
    "A function is defined using the def keyword followed by the function name and parentheses.\n",
    "\n",
    "2. Function with Parameters:\n",
    "Functions can be defined with parameters to accept input values.\n",
    "\n",
    "3. Function with Return Statement:\n",
    "Functions can return a value using the return statement.\n",
    "\n",
    "4. Lambda Function:\n",
    "A lambda function is an anonymous function defined using the lambda keyword. It is usually used for short, simple operations.\n",
    "\n",
    "*  Calling a Function:\n",
    "Functions in Python can be called in various ways:\n",
    "\n",
    "1. Without Arguments:\n",
    "Calling a function that does not require any input values.\n",
    "\n",
    "2. With Positional Arguments:\n",
    "Arguments are passed in the same order as the parameters defined.\n",
    "\n",
    "3. With Keyword Arguments:\n",
    "Arguments are passed by specifying the parameter names.\n",
    "\n",
    "4. With Default Arguments:\n",
    "If a parameter has a default value, it can be omitted while calling the function.\n",
    "\n",
    "5. With Variable-length Arguments:\n",
    "Functions can accept a variable number of arguments using *args for positional and **kwargs for keyword arguments."
   ]
  },
  {
   "cell_type": "markdown",
   "id": "bc7345f2-57ad-42bb-8ebf-d9db3fe3203a",
   "metadata": {},
   "source": [
    "4. What is the purpose of the `return` statement in a Python function?"
   ]
  },
  {
   "cell_type": "markdown",
   "id": "158fb644-3913-4bd3-ad1b-0ffe1fb4fa5c",
   "metadata": {},
   "source": [
    "Ans. The return statement in a Python function is used to send a result back to the caller of the function. It ends the function execution and passes the specified value or expression to the part of the program where the function was called. \n",
    "Key Purposes:\n",
    "1. Returns Output: It provides the output of the function to be used elsewhere in the program.\n",
    "\n",
    "2. Ends Function Execution: Once return is executed, the function terminates immediately, even if more code follows.\n",
    "\n",
    "3. Allows Value Reuse: The returned value can be stored in variables or used in expressions."
   ]
  },
  {
   "cell_type": "markdown",
   "id": "5ddaedcc-d69b-41f9-be6c-2c0de7ca7492",
   "metadata": {},
   "source": [
    "5. What are iterators in Python and how do they differ from iterables?"
   ]
  },
  {
   "cell_type": "markdown",
   "id": "6ab4de5f-9502-446a-b1bf-244268dcf7f9",
   "metadata": {},
   "source": [
    "Ans. Iterables:\n",
    "* An iterable is any Python object that can be looped over (iterated).\n",
    "\n",
    "* Examples include lists, tuples, strings, sets, and dictionaries.\n",
    "\n",
    "* An iterable does not keep track of the current position while iterating.\n",
    "\n",
    "* It uses the built-in function iter() to create an iterator.\n",
    "\n",
    "Iterators:\n",
    "* An iterator is an object that represents a stream of data and remembers its position during iteration.\n",
    "\n",
    "* It is created from an iterable using the iter() function.\n",
    "\n",
    "* It uses the __next__() method to get the next item and raises a StopIteration error when items are exhausted."
   ]
  },
  {
   "cell_type": "markdown",
   "id": "bd0f20ed-563a-45e7-85a2-10e1e9bffa62",
   "metadata": {},
   "source": [
    "6. Explain the concept of generators in Python and how they are defined. "
   ]
  },
  {
   "cell_type": "markdown",
   "id": "136a005c-b142-4b7b-8bcb-a9c77a8cac06",
   "metadata": {},
   "source": [
    "Ans. A generator in Python is a special type of iterator that is used to generate values one at a time as needed, rather than storing them all in memory at once. This makes generators memory-efficient, especially when dealing with large datasets.\n",
    "\n",
    "How Generators are Defined:\n",
    "1. Using a Function with yield:\n",
    "\n",
    "* A generator is defined like a normal function but uses the yield keyword instead of return.\n",
    "\n",
    "* Each time the function is called, it resumes from where it left off, maintaining its state.\n",
    "\n",
    "2. Using Generator Expressions:\n",
    "\n",
    "* Similar to list comprehensions but with round brackets () instead of square brackets []."
   ]
  },
  {
   "cell_type": "markdown",
   "id": "b6d4f7f0-c01a-4bef-9d05-6518578fdaf9",
   "metadata": {},
   "source": [
    "7. What are the advantages of using generators over regular functions?"
   ]
  },
  {
   "cell_type": "markdown",
   "id": "5a7fa4b6-2336-47b0-8ef9-e5eee21496a3",
   "metadata": {},
   "source": [
    "Ans. Advantages of Using Generators over Regular Functions:\n",
    "1. Memory Efficiency: Generators produce one value at a time and do not store the entire sequence in memory, which is ideal for working with large datasets or streams of data.\n",
    "\n",
    "2. Lazy Evaluation: Values are generated on the fly, only when needed. This makes generators faster in scenarios where not all results are required at once.\n",
    "\n",
    "3. Improved Performance: Since generators avoid building full lists in memory, they can offer better performance in terms of speed and resource usage.\n",
    "\n",
    "4. Simpler Code: Generators allow for clean and concise code, especially when dealing with loops and large data processing tasks.\n",
    "\n",
    "5. State Retention: Generators automatically remember their last execution state, so they resume from where they left off when called again.\n",
    "\n",
    "6. Infinite Sequences: Generators can be used to create infinite sequences, which would be impossible with regular functions that return full collections."
   ]
  },
  {
   "cell_type": "markdown",
   "id": "083ff714-33b5-44f6-bc8b-fcba79098ab4",
   "metadata": {},
   "source": [
    "8. What is a lambda function in Python and when is it typically used?\n"
   ]
  },
  {
   "cell_type": "markdown",
   "id": "9d53b7d4-cd69-47bf-8d3f-346ba74b2920",
   "metadata": {},
   "source": [
    "Ans. A lambda function in Python is a type of anonymous function, meaning it is defined without a name. It is created using the lambda keyword instead of the traditional def keyword used for regular functions. Lambda functions are small and limited to a single expression. They can take any number of arguments but can only contain one expression, which is evaluated and returned.\n",
    "\n",
    "Typical Use of Lambda Functions: Lambda functions are typically used in situations where a simple, short function is required for a short period of time. They are commonly used with built-in functions like map(), filter(), and sorted() for concise and readable code."
   ]
  },
  {
   "cell_type": "markdown",
   "id": "38780562-3859-42cc-998b-1499597e2f25",
   "metadata": {},
   "source": [
    "9. Explain the purpose and usage of the `map()` function in Python."
   ]
  },
  {
   "cell_type": "markdown",
   "id": "1d0ac38f-2da9-4b50-8057-e63c5798755f",
   "metadata": {},
   "source": [
    "Ans. The map() function in Python is used to apply a given function to each item in an iterable (such as a list, tuple, etc.) and returns a new map object containing the results. \n",
    "Purpose: \n",
    "The main purpose of map() is to perform transformation or processing on each element of a collection without using explicit loops, making the code cleaner and more efficient.\n",
    "Usage:\n",
    "* map() takes two arguments:\n",
    "\n",
    "1. A function that defines how to process each element.\n",
    "\n",
    "2. An iterable (like a list or tuple) whose elements will be processed.\n",
    "\n",
    "* The result is a map object, which can be converted into a list, tuple, etc., if needed."
   ]
  },
  {
   "cell_type": "markdown",
   "id": "c61c98de-aefe-4678-a03b-78aa5414781c",
   "metadata": {},
   "source": [
    "10. What is the difference between `map()`, `reduce()`, and `filter()` functions in Python?"
   ]
  },
  {
   "cell_type": "markdown",
   "id": "5381daa8-96d1-4fb5-9bbe-67443b38f5fb",
   "metadata": {},
   "source": [
    "Ans. These are built-in higher-order functions in Python used for functional programming, and each serves a different purpose:\n",
    "\n",
    "1. map() Function:\n",
    "* Purpose: Applies a given function to each element of an iterable.\n",
    "\n",
    "* Result: Returns a new iterable with transformed elements.\n",
    "\n",
    "2. filter() Function:\n",
    "* Purpose: Applies a function to each element and filters out elements based on the function’s condition (i.e., returns only elements for which the function returns True).\n",
    "\n",
    "* Result: Returns a new iterable with filtered elements.\n",
    "\n",
    "3. reduce() Function:\n",
    "* Purpose: Applies a function cumulatively to the elements of an iterable, reducing it to a single value.\n",
    "\n",
    "* Note: reduce() is not a built-in function in Python 3 and must be imported from the functools module."
   ]
  },
  {
   "cell_type": "markdown",
   "id": "099c2eb1-da1a-4f87-a6eb-6480ef2f99e4",
   "metadata": {},
   "source": [
    "11. Using pen & Paper write the internal mechanism for sum operation using  reduce function on this given\n",
    "list:[47,11,42,13]; "
   ]
  },
  {
   "cell_type": "markdown",
   "id": "2c26f7bd-5433-460f-836f-116a394d1f0f",
   "metadata": {},
   "source": [
    "Ans. In the pdf."
   ]
  },
  {
   "cell_type": "markdown",
   "id": "8a78939f-5b6b-442f-9be2-db055b83924a",
   "metadata": {},
   "source": [
    "## Practical Questions:\n"
   ]
  },
  {
   "cell_type": "markdown",
   "id": "abbe041d-38d3-4a92-aecc-81cbe2e237ca",
   "metadata": {},
   "source": [
    "1. Write a Python function that takes a list of numbers as input and returns the sum of all even numbers in\n",
    "the list."
   ]
  },
  {
   "cell_type": "code",
   "execution_count": 14,
   "id": "9f8f011f-d11e-45c4-a256-815500acb1d5",
   "metadata": {},
   "outputs": [
    {
     "name": "stdout",
     "output_type": "stream",
     "text": [
      "12\n"
     ]
    }
   ],
   "source": [
    "def sum_even_numbers(numbers):\n",
    "    # Initialize sum to 0\n",
    "    sum_even = 0\n",
    "    \n",
    "    # Loop through each number in the list\n",
    "    for num in numbers:\n",
    "        # Check if the number is even\n",
    "        if num % 2 == 0:\n",
    "            sum_even += num  # Add even number to sum\n",
    "    \n",
    "    return sum_even\n",
    "\n",
    "numbers = [1, 2, 3, 4, 5, 6]\n",
    "result = sum_even_numbers(numbers)\n",
    "print(result) "
   ]
  },
  {
   "cell_type": "markdown",
   "id": "597ba5da-977a-40af-87ed-d96672df8bdb",
   "metadata": {},
   "source": [
    "2. Create a Python function that accepts a string and returns the reverse of that string."
   ]
  },
  {
   "cell_type": "code",
   "execution_count": 15,
   "id": "6834e311-a87d-46f8-836f-3443668a4fc0",
   "metadata": {},
   "outputs": [
    {
     "name": "stdout",
     "output_type": "stream",
     "text": [
      "olleh\n"
     ]
    }
   ],
   "source": [
    "def reverse_string(s):\n",
    "    return s[::-1]\n",
    "\n",
    "input_string = \"hello\"\n",
    "reversed_string = reverse_string(input_string)\n",
    "print(reversed_string)  # Output will be \"olleh\""
   ]
  },
  {
   "cell_type": "markdown",
   "id": "807f95e5-28de-4efe-a11b-d0fc0996aa76",
   "metadata": {},
   "source": [
    "\n",
    "3. Implement a Python function that takes a list of integers and returns a new list containing the squares of\n",
    "each number."
   ]
  },
  {
   "cell_type": "code",
   "execution_count": 16,
   "id": "cc3e4e99-da4d-4bfc-b445-4bd8afda01b4",
   "metadata": {},
   "outputs": [
    {
     "name": "stdout",
     "output_type": "stream",
     "text": [
      "[1, 4, 9, 16, 25]\n"
     ]
    }
   ],
   "source": [
    "def square_numbers(numbers):\n",
    "    return [num ** 2 for num in numbers]\n",
    "\n",
    "numbers = [1, 2, 3, 4, 5]\n",
    "squared_numbers = square_numbers(numbers)\n",
    "print(squared_numbers)  # Output will be [1, 4, 9, 16, 25]\n"
   ]
  },
  {
   "cell_type": "markdown",
   "id": "0486d0de-2f87-42a0-a4a1-1cb0fcdd2a20",
   "metadata": {},
   "source": [
    "4. Write a Python function that checks if a given number is prime or not from 1 to 200."
   ]
  },
  {
   "cell_type": "code",
   "execution_count": 17,
   "id": "f0cd798b-4f9b-4d41-b591-d64dd526355f",
   "metadata": {},
   "outputs": [
    {
     "name": "stdout",
     "output_type": "stream",
     "text": [
      "[2, 3, 5, 7, 11, 13, 17, 19, 23, 29, 31, 37, 41, 43, 47, 53, 59, 61, 67, 71, 73, 79, 83, 89, 97, 101, 103, 107, 109, 113, 127, 131, 137, 139, 149, 151, 157, 163, 167, 173, 179, 181, 191, 193, 197, 199]\n"
     ]
    }
   ],
   "source": [
    "def is_prime(n):\n",
    "    # Numbers less than 2 are not prime\n",
    "    if n < 2:\n",
    "        return False\n",
    "    # Check for factors from 2 to the square root of n\n",
    "    for i in range(2, int(n**0.5) + 1):\n",
    "        if n % i == 0:\n",
    "            return False\n",
    "    return True\n",
    "\n",
    "# Example usage to check prime numbers between 1 and 200\n",
    "prime_numbers = [n for n in range(1, 201) if is_prime(n)]\n",
    "print(prime_numbers)\n"
   ]
  },
  {
   "cell_type": "markdown",
   "id": "398a7a2c-4af7-485a-bf27-30007a87d85e",
   "metadata": {},
   "source": [
    "5. Create an iterator class in Python that generates the Fibonacci sequence up to a specified number of\n",
    "terms."
   ]
  },
  {
   "cell_type": "code",
   "execution_count": 18,
   "id": "b94cbf80-bac8-4899-a802-e07caee55ba0",
   "metadata": {},
   "outputs": [
    {
     "name": "stdout",
     "output_type": "stream",
     "text": [
      "0\n",
      "1\n",
      "1\n",
      "2\n",
      "3\n",
      "5\n",
      "8\n",
      "13\n",
      "21\n",
      "34\n"
     ]
    }
   ],
   "source": [
    "class FibonacciIterator:\n",
    "    def __init__(self, n):\n",
    "        self.n = n  # Number of terms in the Fibonacci sequence\n",
    "        self.a, self.b = 0, 1  # Initialize first two terms\n",
    "\n",
    "    def __iter__(self):\n",
    "        return self  # Return the iterator object itself\n",
    "\n",
    "    def __next__(self):\n",
    "        if self.n <= 0:\n",
    "            raise StopIteration  # Stop the iteration if n terms are generated\n",
    "        fib = self.a\n",
    "        self.a, self.b = self.b, self.a + self.b  # Update to next Fibonacci numbers\n",
    "        self.n -= 1\n",
    "        return fib\n",
    "\n",
    "# Example usage:\n",
    "n_terms = 10\n",
    "fibonacci_sequence = FibonacciIterator(n_terms)\n",
    "\n",
    "for num in fibonacci_sequence:\n",
    "    print(num)\n"
   ]
  },
  {
   "cell_type": "markdown",
   "id": "aecc5c8d-7ffc-40e2-991d-ec45233d251b",
   "metadata": {},
   "source": [
    "6. Write a generator function in Python that yields the powers of 2 up to a given exponent."
   ]
  },
  {
   "cell_type": "code",
   "execution_count": 19,
   "id": "e59644b2-bb3b-45ac-863d-d1e991d65758",
   "metadata": {},
   "outputs": [
    {
     "name": "stdout",
     "output_type": "stream",
     "text": [
      "1\n",
      "2\n",
      "4\n",
      "8\n",
      "16\n",
      "32\n"
     ]
    }
   ],
   "source": [
    "def powers_of_two(exponent):\n",
    "    for i in range(exponent + 1):\n",
    "        yield 2 ** i\n",
    "\n",
    "# Example usage:\n",
    "exponent = 5\n",
    "for power in powers_of_two(exponent):\n",
    "    print(power)\n"
   ]
  },
  {
   "cell_type": "markdown",
   "id": "a8d61a22-2eb0-403b-ae18-091f2cf73444",
   "metadata": {},
   "source": [
    "7. Implement a generator function that reads a file line by line and yields each line as a string."
   ]
  },
  {
   "cell_type": "code",
   "execution_count": 24,
   "id": "eb45e22b-ed52-4f32-9c59-35bac44f447b",
   "metadata": {},
   "outputs": [
    {
     "name": "stdout",
     "output_type": "stream",
     "text": [
      "Error: The file at example.txt does not exist.\n"
     ]
    }
   ],
   "source": [
    "def read_file_line_by_line(file_path):\n",
    "    try:\n",
    "        with open(file_path, 'r') as file:\n",
    "            for line in file:\n",
    "                yield line.strip()  # Removes trailing newline characters\n",
    "    except FileNotFoundError:\n",
    "        print(f\"Error: The file at {file_path} does not exist.\")\n",
    "    except PermissionError:\n",
    "        print(f\"Error: You do not have permission to read the file at {file_path}.\")\n",
    "    except Exception as e:\n",
    "        print(f\"An unexpected error occurred: {e}\")\n",
    "\n",
    "# Example usage:\n",
    "file_path = 'example.txt'  # Replace with the actual path to your file\n",
    "\n",
    "for line in read_file_line_by_line(file_path):\n",
    "    print(line)\n"
   ]
  },
  {
   "cell_type": "markdown",
   "id": "fd9fc025-c837-47dd-b02b-5d805f1e27e1",
   "metadata": {},
   "source": [
    "8. Use a lambda function in Python to sort a list of tuples based on the second element of each tuple."
   ]
  },
  {
   "cell_type": "code",
   "execution_count": 25,
   "id": "d02bed6a-6e73-436f-b3fa-bf182ae10fd0",
   "metadata": {},
   "outputs": [
    {
     "name": "stdout",
     "output_type": "stream",
     "text": [
      "[(2, 1), (4, 2), (1, 3), (3, 4)]\n"
     ]
    }
   ],
   "source": [
    "# List of tuples\n",
    "tuples_list = [(1, 3), (2, 1), (4, 2), (3, 4)]\n",
    "\n",
    "# Sorting the list of tuples by the second element of each tuple\n",
    "sorted_list = sorted(tuples_list, key=lambda x: x[1])\n",
    "\n",
    "# Printing the sorted list\n",
    "print(sorted_list)\n"
   ]
  },
  {
   "cell_type": "markdown",
   "id": "cfe8f3f6-296b-4de8-8ee3-a946cfd15d6a",
   "metadata": {},
   "source": [
    "9. Write a Python program that uses `map()` to convert a list of temperatures from Celsius to Fahrenheit."
   ]
  },
  {
   "cell_type": "code",
   "execution_count": 26,
   "id": "31f2d4c5-47d5-4897-a26e-a1422bb612bc",
   "metadata": {},
   "outputs": [
    {
     "name": "stdout",
     "output_type": "stream",
     "text": [
      "[32.0, 77.0, 86.0, 95.0, 104.0]\n"
     ]
    }
   ],
   "source": [
    "# Function to convert Celsius to Fahrenheit\n",
    "def celsius_to_fahrenheit(celsius):\n",
    "    return (celsius * 9/5) + 32\n",
    "\n",
    "# List of temperatures in Celsius\n",
    "celsius_temperatures = [0, 25, 30, 35, 40]\n",
    "\n",
    "# Using map() to convert each Celsius temperature to Fahrenheit\n",
    "fahrenheit_temperatures = list(map(celsius_to_fahrenheit, celsius_temperatures))\n",
    "\n",
    "# Printing the converted temperatures\n",
    "print(fahrenheit_temperatures)\n"
   ]
  },
  {
   "cell_type": "markdown",
   "id": "8d8d2b2d-6c19-4ccf-ad67-820265a2b4e0",
   "metadata": {},
   "source": [
    "10. Create a Python program that uses `filter()` to remove all the vowels from a given string."
   ]
  },
  {
   "cell_type": "code",
   "execution_count": 27,
   "id": "e76aff18-bcd5-46f3-aabb-427ce3b3d240",
   "metadata": {},
   "outputs": [
    {
     "name": "stdout",
     "output_type": "stream",
     "text": [
      "Hll, Wrld!\n"
     ]
    }
   ],
   "source": [
    "# Function to filter out vowels\n",
    "def remove_vowels(char):\n",
    "    return char.lower() not in 'aeiou'\n",
    "\n",
    "# Input string\n",
    "input_string = \"Hello, World!\"\n",
    "\n",
    "# Using filter() to remove vowels\n",
    "filtered_string = ''.join(filter(remove_vowels, input_string))\n",
    "\n",
    "# Printing the result\n",
    "print(filtered_string)\n",
    "\n"
   ]
  },
  {
   "cell_type": "markdown",
   "id": "9d8b737d-465e-4ab0-b7db-cbc0a071b45d",
   "metadata": {},
   "source": [
    "11) Imagine an accounting routine used in a book shop. It works on a list with sublists, which look like this:"
   ]
  },
  {
   "cell_type": "markdown",
   "id": "a009b73f-167f-459a-84a3-04ef025dd590",
   "metadata": {},
   "source": [
    "![Screenshot (65).png](attachment:bcbf8e46-5347-45ea-b4bc-9c8a5aab7544.png)"
   ]
  },
  {
   "attachments": {},
   "cell_type": "markdown",
   "id": "2076f1b1-ab13-44b8-88b5-3da4d44b36df",
   "metadata": {},
   "source": [
    "Write a Python program, which returns a list with 2-tuples. Each tuple consists of the order number and the\n",
    "product of the price per item and the quantity. The product should be increased by 10,- € if the value of the\n",
    "order is smaller than 100,00 €.\n",
    "\n",
    "Write a Python program using lambda and map."
   ]
  },
  {
   "cell_type": "code",
   "execution_count": 29,
   "id": "9c5e72a0-46ab-430b-8edf-89f51e525ea4",
   "metadata": {},
   "outputs": [
    {
     "name": "stdout",
     "output_type": "stream",
     "text": [
      "[(34587, 163.8), (98762, 284.0), (77226, 108.85000000000001), (88112, 84.97)]\n"
     ]
    }
   ],
   "source": [
    "orders = [\n",
    "    [34587, \"Learning Python, Mark Lutz\", 4, 40.95],\n",
    "    [98762, \"Programming Python, Mark Lutz\", 5, 56.80],\n",
    "    [77226, \"Head First Python, Paul Barry\", 3, 32.95],\n",
    "    [88112, \"Einführung in Python3, Bernd Klein\", 3, 24.99]\n",
    "]\n",
    "\n",
    "result = list(map(lambda order: (order[0], order[2] * order[3] if order[2] * order[3] >= 100 else order[2] * order[3] + 10), orders))\n",
    "\n",
    "print(result)"
   ]
  },
  {
   "cell_type": "code",
   "execution_count": null,
   "id": "99fafb3a-a7d3-4426-be81-3ff6e8a09fbf",
   "metadata": {},
   "outputs": [],
   "source": []
  }
 ],
 "metadata": {
  "kernelspec": {
   "display_name": "Python 3 (ipykernel)",
   "language": "python",
   "name": "python3"
  },
  "language_info": {
   "codemirror_mode": {
    "name": "ipython",
    "version": 3
   },
   "file_extension": ".py",
   "mimetype": "text/x-python",
   "name": "python",
   "nbconvert_exporter": "python",
   "pygments_lexer": "ipython3",
   "version": "3.12.6"
  }
 },
 "nbformat": 4,
 "nbformat_minor": 5
}
